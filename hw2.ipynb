{
 "cells": [
  {
   "metadata": {},
   "cell_type": "markdown",
   "source": [
    "### Q1\n",
    "Write a python program to print a dictionary that contains a number (1 to `n`) in the form (`x*x`).\n",
    "\n",
    "`input: n=5`\n",
    "\n",
    "`output: {1:1, 2:4, 3:9, 4:16}`"
   ],
   "id": "7d410fbd3abd28b8"
  },
  {
   "metadata": {
    "ExecuteTime": {
     "end_time": "2024-05-20T14:02:02.340210Z",
     "start_time": "2024-05-20T14:02:02.333776Z"
    }
   },
   "cell_type": "code",
   "source": [
    "def squaredDictionary(n):\n",
    "    n_dict = dict()\n",
    "    for i in range(1, n):\n",
    "        n_dict[i] = i ** 2\n",
    "    return n_dict\n",
    "\n",
    "squaredDictionary(5)"
   ],
   "id": "13470dcd4dff45c6",
   "outputs": [
    {
     "data": {
      "text/plain": [
       "{1: 1, 2: 4, 3: 9, 4: 16}"
      ]
     },
     "execution_count": 3,
     "metadata": {},
     "output_type": "execute_result"
    }
   ],
   "execution_count": 3
  },
  {
   "metadata": {},
   "cell_type": "markdown",
   "source": [
    "### Q2\n",
    "Write a program to combine two dictionaries adding values for common keys"
   ],
   "id": "1b7ae2c65743dfcb"
  },
  {
   "metadata": {
    "ExecuteTime": {
     "end_time": "2024-05-20T14:11:32.818644Z",
     "start_time": "2024-05-20T14:11:32.812984Z"
    }
   },
   "cell_type": "code",
   "source": [
    "def dictionaryCombiner(dict_1, dict_2):\n",
    "    for (key, value) in dict_2.items():\n",
    "        dict_1[key] = value + dict_1[key] if key in dict_1.keys() else value \n",
    "    return dict_1\n",
    "    \n",
    "    \n",
    "dict_1 = {'a': 100, 'b': 200, 'c': 300 }\n",
    "dict_2 = {'a': 200, 'b': 300, 'd': 400 }\n",
    "dictionaryCombiner(dict_1, dict_2)"
   ],
   "id": "9aee4c6e8e61e880",
   "outputs": [
    {
     "data": {
      "text/plain": [
       "{'a': 300, 'b': 500, 'c': 300, 'd': 400}"
      ]
     },
     "execution_count": 11,
     "metadata": {},
     "output_type": "execute_result"
    }
   ],
   "execution_count": 11
  },
  {
   "metadata": {},
   "cell_type": "markdown",
   "source": [
    "### Q3\n",
    "Write a python program with given list of numbers check for pair of numbers that sum of the x?"
   ],
   "id": "21bf134686c4f20d"
  },
  {
   "metadata": {},
   "cell_type": "code",
   "outputs": [],
   "execution_count": null,
   "source": [
    "def numberChecker(n_list, x):\n",
    "    return x\n",
    "\n",
    "n_list = [0, -1, 2, -3, 1]\n",
    "x = -2\n",
    "numberChecker(n_list, x)"
   ],
   "id": "78473358d6c6b860"
  },
  {
   "metadata": {
    "ExecuteTime": {
     "end_time": "2024-05-20T14:25:57.357846Z",
     "start_time": "2024-05-20T14:25:57.352047Z"
    }
   },
   "cell_type": "code",
   "source": [
    "def find_sets_with_sum(numbers, x):\n",
    "  def find_sets(numbers, target, current_set, all_sets, start_index):\n",
    "    # print(f\"Calling find_sets with target: {target}, current_set: {current_set}, start_index: {start_index}\")\n",
    "    if target == 0 and current_set:\n",
    "      all_sets.append(current_set[:])\n",
    "      # print(f\"Found valid set: {current_set}\")\n",
    "      return\n",
    "    for i in range(start_index, len(numbers)):\n",
    "      current_set.append(numbers[i])\n",
    "      find_sets(numbers, target - numbers[i], current_set, all_sets, i + 1)\n",
    "      current_set.pop()\n",
    "  \n",
    "  all_sets = []\n",
    "  find_sets(numbers, x, [], all_sets, 0)\n",
    "  return all_sets\n",
    "\n",
    "# Example usage:\n",
    "numbers = [-10, 10, 15, 3, 7, 5, 5, 2]\n",
    "x = 45\n",
    "\n",
    "result = find_sets_with_sum(numbers, x)\n",
    "if result:\n",
    "  print(f\"Sets found: {result}\")\n",
    "else:\n",
    "  print(\"No sets found\")\n"
   ],
   "id": "639b73af146e0ca2",
   "outputs": [
    {
     "name": "stdout",
     "output_type": "stream",
     "text": [
      "Sets found: [[10, 15, 3, 7, 5, 5]]\n"
     ]
    }
   ],
   "execution_count": 33
  },
  {
   "metadata": {},
   "cell_type": "code",
   "outputs": [],
   "execution_count": null,
   "source": "",
   "id": "3b4500a7a689c9b2"
  }
 ],
 "metadata": {
  "kernelspec": {
   "display_name": "Python 3",
   "language": "python",
   "name": "python3"
  },
  "language_info": {
   "codemirror_mode": {
    "name": "ipython",
    "version": 2
   },
   "file_extension": ".py",
   "mimetype": "text/x-python",
   "name": "python",
   "nbconvert_exporter": "python",
   "pygments_lexer": "ipython2",
   "version": "2.7.6"
  }
 },
 "nbformat": 4,
 "nbformat_minor": 5
}
